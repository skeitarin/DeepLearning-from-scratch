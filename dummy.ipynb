{
 "cells": [
  {
   "cell_type": "code",
   "execution_count": 5,
   "metadata": {},
   "outputs": [
    {
     "name": "stdout",
     "output_type": "stream",
     "text": [
      "1\n",
      "[1 0]\n",
      "[0.47502081 0.7109495 ]\n"
     ]
    },
    {
     "data": {
      "image/png": "[encoded data removed]",
      "text/plain": [
       "<matplotlib.figure.Figure at 0x110ee4828>"
      ]
     },
     "metadata": {},
     "output_type": "display_data"
    }
   ],
   "source": [
    "import numpy as np\n",
    "import matplotlib.pyplot as plt\n",
    "\n",
    "# 活性化関数\n",
    "\n",
    "def plot_graph(x, y):\n",
    "    plt.plot(x, y)\n",
    "    plt.ylim(-0.1, 1.1)\n",
    "    plt.show()\n",
    "\n",
    "# -------------\n",
    "# ステップ関数\n",
    "# -------------\n",
    "def step_function(x):\n",
    "    if(x > 0):\n",
    "        return 1\n",
    "    else:\n",
    "        return 0\n",
    "    # ↑引数のxは実数のみ、ndarrayなどは渡せない\n",
    "\n",
    "x1 = 0.1\n",
    "x2 = np.array([1, -1])\n",
    "\n",
    "print(step_function(x1))\n",
    "# print(step_function(x2)) #-> Error\n",
    "\n",
    "def step_function2(x):\n",
    "    x2 = x > 0\n",
    "    return x2.astype(np.int)\n",
    "\n",
    "print(step_function2(x2))\n",
    "\n",
    "x3 = np.arange(-5.0, 5.0, 0.1)\n",
    "y = step_function2(x3)\n",
    "\n",
    "# plot_graph(x3, y)\n",
    "\n",
    "\n",
    "# -------------\n",
    "# シグモイド関数\n",
    "# -------------\n",
    "def sigmoid_function(x):\n",
    "    return 1 / (1 + np.exp(-x)) # exp(x)はネイピア数（e）のx乗\n",
    "\n",
    "print(sigmoid_function(np.arange(-0.1, 1.0, 1)))\n",
    "y = sigmoid_function(x3)\n",
    "\n",
    "# plot_graph(x3, y)\n",
    "\n",
    "# -------------\n",
    "# ReLU関数\n",
    "# -------------\n",
    "def relu_function(x):\n",
    "    return np.maximum(0, x)\n",
    "\n",
    "y = relu_function(x3)\n",
    "plot_graph(x3, y)\n"
   ]
  },
  {
   "cell_type": "code",
   "execution_count": null,
   "metadata": {
    "collapsed": true
   },
   "outputs": [],
   "source": []
  }
 ],
 "metadata": {
  "kernelspec": {
   "display_name": "Python 3",
   "language": "python",
   "name": "python3"
  },
  "language_info": {
   "codemirror_mode": {
    "name": "ipython",
    "version": 3
   },
   "file_extension": ".py",
   "mimetype": "text/x-python",
   "name": "python",
   "nbconvert_exporter": "python",
   "pygments_lexer": "ipython3",
   "version": "3.6.2"
  }
 },
 "nbformat": 4,
 "nbformat_minor": 2
}
